{
 "cells": [
  {
   "cell_type": "markdown",
   "id": "5f1c099b-892f-4e7a-981f-1445932bbcf1",
   "metadata": {},
   "source": [
    "## Import Necessary Library"
   ]
  },
  {
   "cell_type": "code",
   "execution_count": 1,
   "id": "318a7f49-e193-42da-b359-e61c2906245f",
   "metadata": {},
   "outputs": [],
   "source": [
    "import ibis\n",
    "from google.oauth2 import service_account"
   ]
  },
  {
   "cell_type": "code",
   "execution_count": 2,
   "id": "86af67b7-f3bf-47de-83f9-4e402020ece6",
   "metadata": {},
   "outputs": [],
   "source": [
    "# Load credentials from a service account JSON file\n",
    "credentials = service_account.Credentials.from_service_account_file(\n",
    "    '/opt/spark/work-dir/google-service-account.json',\n",
    "    scopes=['https://www.googleapis.com/auth/bigquery'] # Specify necessary scopes\n",
    ")\n",
    "\n",
    "con = ibis.bigquery.connect(\n",
    "    project_id='personal-use-461616',\n",
    "    credentials=credentials\n",
    ")"
   ]
  },
  {
   "cell_type": "code",
   "execution_count": 3,
   "id": "4b7fa4aa-02a2-435c-8fa7-dd9805da2758",
   "metadata": {},
   "outputs": [
    {
     "data": {
      "text/plain": [
       "['ecommerce_product']"
      ]
     },
     "execution_count": 3,
     "metadata": {},
     "output_type": "execute_result"
    }
   ],
   "source": [
    "con.list_databases()"
   ]
  },
  {
   "cell_type": "code",
   "execution_count": 4,
   "id": "d40e4784-f6a6-4f4e-9dc1-db4b9594f636",
   "metadata": {},
   "outputs": [
    {
     "data": {
      "text/plain": [
       "['external_ingest_product', 'product_price_raw_data']"
      ]
     },
     "execution_count": 4,
     "metadata": {},
     "output_type": "execute_result"
    }
   ],
   "source": [
    "con.list_tables(database = 'ecommerce_product')"
   ]
  },
  {
   "cell_type": "markdown",
   "id": "dba708b5-473b-4977-a35a-489686c8dad8",
   "metadata": {},
   "source": [
    "## Interactive mode"
   ]
  },
  {
   "cell_type": "code",
   "execution_count": 5,
   "id": "b6ed1826-b541-41c8-9134-773a90411453",
   "metadata": {},
   "outputs": [],
   "source": [
    "ibis.options.interactive = False"
   ]
  },
  {
   "cell_type": "code",
   "execution_count": 6,
   "id": "abf70f57-e737-4943-bf28-1ffc764824f4",
   "metadata": {},
   "outputs": [
    {
     "data": {
      "text/html": [
       "<pre style=\"white-space:pre;overflow-x:auto;line-height:normal;font-family:Menlo,'DejaVu Sans Mono',consolas,'Courier New',monospace\">DatabaseTable: personal-use-461616.ecommerce_product.product_price_raw_data\n",
       "  product_name_sha256  binary\n",
       "  product_name         string\n",
       "  sale_price           float64\n",
       "  ecommerce_name       string\n",
       "  ingest_timestamp_utc timestamp('UTC')\n",
       "</pre>\n"
      ],
      "text/plain": [
       "DatabaseTable: personal-use-461616.ecommerce_product.product_price_raw_data\n",
       "  product_name_sha256  binary\n",
       "  product_name         string\n",
       "  sale_price           float64\n",
       "  ecommerce_name       string\n",
       "  ingest_timestamp_utc timestamp('UTC')"
      ]
     },
     "execution_count": 6,
     "metadata": {},
     "output_type": "execute_result"
    }
   ],
   "source": [
    "raw_df = con.table(\"ecommerce_product.product_price_raw_data\")\n",
    "raw_df"
   ]
  },
  {
   "cell_type": "code",
   "execution_count": 7,
   "id": "5016ed67-c7c7-4a8f-8b14-8a03bf4b293d",
   "metadata": {},
   "outputs": [
    {
     "data": {
      "text/html": [
       "<div>\n",
       "<style scoped>\n",
       "    .dataframe tbody tr th:only-of-type {\n",
       "        vertical-align: middle;\n",
       "    }\n",
       "\n",
       "    .dataframe tbody tr th {\n",
       "        vertical-align: top;\n",
       "    }\n",
       "\n",
       "    .dataframe thead th {\n",
       "        text-align: right;\n",
       "    }\n",
       "</style>\n",
       "<table border=\"1\" class=\"dataframe\">\n",
       "  <thead>\n",
       "    <tr style=\"text-align: right;\">\n",
       "      <th></th>\n",
       "      <th>product_name_sha256</th>\n",
       "      <th>product_name</th>\n",
       "      <th>sale_price</th>\n",
       "      <th>ecommerce_name</th>\n",
       "      <th>ingest_timestamp_utc</th>\n",
       "    </tr>\n",
       "  </thead>\n",
       "  <tbody>\n",
       "    <tr>\n",
       "      <th>0</th>\n",
       "      <td>b'\\x1av\\x0e]N\\x91\\xcf\\xfb\\xf7\\xb0e\\xabo\\x96\\xf...</td>\n",
       "      <td>dermasense vita-c brightening serum 30ml เซรั่...</td>\n",
       "      <td>400.0</td>\n",
       "      <td>ecommerce_01</td>\n",
       "      <td>2025-06-20 03:03:30+00:00</td>\n",
       "    </tr>\n",
       "    <tr>\n",
       "      <th>1</th>\n",
       "      <td>b'\\x8f\\x98\\xa5\\x13[\\x99\\xca\\x17\\x18\\xd5E\\xa8\\x...</td>\n",
       "      <td>vitalcore bio-defense daily 90 capsules (ปกป้อ...</td>\n",
       "      <td>1200.0</td>\n",
       "      <td>ecommerce_01</td>\n",
       "      <td>2025-06-20 03:03:30+00:00</td>\n",
       "    </tr>\n",
       "    <tr>\n",
       "      <th>2</th>\n",
       "      <td>b'\\xb2\\x88/\\x8b\\x86\\x1d\\xa0\\xcc\\xaddX\\x01Sx\\x1...</td>\n",
       "      <td>dermasense vita-c brightening serum 30ml</td>\n",
       "      <td>300.0</td>\n",
       "      <td>ecommerce_02</td>\n",
       "      <td>2025-06-20 03:03:30+00:00</td>\n",
       "    </tr>\n",
       "    <tr>\n",
       "      <th>3</th>\n",
       "      <td>b'\\x9b\\x9f\\x9d\\x08\\xbb\\xd9\\x9b\\x1b$\\xc6X\\x97u*...</td>\n",
       "      <td>vitalcore bio-defense daily 90 capsules</td>\n",
       "      <td>1100.0</td>\n",
       "      <td>ecommerce_02</td>\n",
       "      <td>2025-06-20 03:03:30+00:00</td>\n",
       "    </tr>\n",
       "    <tr>\n",
       "      <th>4</th>\n",
       "      <td>b'\\xf7t\"\\xed\\x89S\\xf4\\xbe\\xc5+\\xf5\\xfcC\\xdd\\xd...</td>\n",
       "      <td>dermasense ph balance dry skin lotion 400ml (l...</td>\n",
       "      <td>510.0</td>\n",
       "      <td>ecommerce_01</td>\n",
       "      <td>2025-06-19 03:03:30+00:00</td>\n",
       "    </tr>\n",
       "  </tbody>\n",
       "</table>\n",
       "</div>"
      ],
      "text/plain": [
       "                                 product_name_sha256  \\\n",
       "0  b'\\x1av\\x0e]N\\x91\\xcf\\xfb\\xf7\\xb0e\\xabo\\x96\\xf...   \n",
       "1  b'\\x8f\\x98\\xa5\\x13[\\x99\\xca\\x17\\x18\\xd5E\\xa8\\x...   \n",
       "2  b'\\xb2\\x88/\\x8b\\x86\\x1d\\xa0\\xcc\\xaddX\\x01Sx\\x1...   \n",
       "3  b'\\x9b\\x9f\\x9d\\x08\\xbb\\xd9\\x9b\\x1b$\\xc6X\\x97u*...   \n",
       "4  b'\\xf7t\"\\xed\\x89S\\xf4\\xbe\\xc5+\\xf5\\xfcC\\xdd\\xd...   \n",
       "\n",
       "                                        product_name  sale_price  \\\n",
       "0  dermasense vita-c brightening serum 30ml เซรั่...       400.0   \n",
       "1  vitalcore bio-defense daily 90 capsules (ปกป้อ...      1200.0   \n",
       "2           dermasense vita-c brightening serum 30ml       300.0   \n",
       "3            vitalcore bio-defense daily 90 capsules      1100.0   \n",
       "4  dermasense ph balance dry skin lotion 400ml (l...       510.0   \n",
       "\n",
       "  ecommerce_name      ingest_timestamp_utc  \n",
       "0   ecommerce_01 2025-06-20 03:03:30+00:00  \n",
       "1   ecommerce_01 2025-06-20 03:03:30+00:00  \n",
       "2   ecommerce_02 2025-06-20 03:03:30+00:00  \n",
       "3   ecommerce_02 2025-06-20 03:03:30+00:00  \n",
       "4   ecommerce_01 2025-06-19 03:03:30+00:00  "
      ]
     },
     "execution_count": 7,
     "metadata": {},
     "output_type": "execute_result"
    }
   ],
   "source": [
    "raw_df.head().to_pandas()"
   ]
  },
  {
   "cell_type": "markdown",
   "id": "c2c892b6-cde3-48d3-b653-5d926b910d98",
   "metadata": {},
   "source": [
    "## Transform Data"
   ]
  },
  {
   "cell_type": "markdown",
   "id": "3137a02a-0139-4ed3-89f4-237aaed96665",
   "metadata": {},
   "source": [
    "### Split Data by Website"
   ]
  },
  {
   "cell_type": "code",
   "execution_count": 9,
   "id": "6602d45b-1d0b-45ac-bb5e-210827856b84",
   "metadata": {},
   "outputs": [
    {
     "name": "stdout",
     "output_type": "stream",
     "text": [
      "-------- em_01_df expression --------\n",
      "r0 := DatabaseTable: personal-use-461616.ecommerce_product.product_price_raw_data\n",
      "  product_name_sha256  binary\n",
      "  product_name         string\n",
      "  sale_price           float64\n",
      "  ecommerce_name       string\n",
      "  ingest_timestamp_utc timestamp('UTC')\n",
      "\n",
      "Filter[r0]\n",
      "  r0.ecommerce_name == 'ecommerce_01'\n",
      "\n",
      "-------- em_02_df expression --------\n",
      "r0 := DatabaseTable: personal-use-461616.ecommerce_product.product_price_raw_data\n",
      "  product_name_sha256  binary\n",
      "  product_name         string\n",
      "  sale_price           float64\n",
      "  ecommerce_name       string\n",
      "  ingest_timestamp_utc timestamp('UTC')\n",
      "\n",
      "Filter[r0]\n",
      "  r0.ecommerce_name == 'ecommerce_02'\n"
     ]
    }
   ],
   "source": [
    "em_01_df = raw_df.filter(raw_df.ecommerce_name == 'ecommerce_01')\n",
    "em_02_df = raw_df.filter(raw_df.ecommerce_name == 'ecommerce_02')\n",
    "print(\"-------- em_01_df expression --------\")\n",
    "print(em_01_df)\n",
    "print(\"\\n-------- em_02_df expression --------\")\n",
    "print(em_02_df)"
   ]
  },
  {
   "cell_type": "markdown",
   "id": "4cc95de7-f2f6-45ae-af4e-c74aa57faac3",
   "metadata": {},
   "source": [
    "### Establish Product Name Baseline\n",
    "\n",
    "Establish a product name baseline by utilizing the `ecommerce_02` product name.<br> \n",
    "This `ecommerce_02` product name will then be used as a query to identify similar products."
   ]
  },
  {
   "cell_type": "code",
   "execution_count": null,
   "id": "925f9657-0a60-435c-92e7-28858a8421ce",
   "metadata": {},
   "outputs": [],
   "source": []
  }
 ],
 "metadata": {
  "kernelspec": {
   "display_name": "Python 3 (ipykernel)",
   "language": "python",
   "name": "python3"
  },
  "language_info": {
   "codemirror_mode": {
    "name": "ipython",
    "version": 3
   },
   "file_extension": ".py",
   "mimetype": "text/x-python",
   "name": "python",
   "nbconvert_exporter": "python",
   "pygments_lexer": "ipython3",
   "version": "3.10.12"
  }
 },
 "nbformat": 4,
 "nbformat_minor": 5
}
