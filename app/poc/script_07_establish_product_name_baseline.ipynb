{
 "cells": [
  {
   "cell_type": "code",
   "execution_count": 1,
   "id": "426ad5be-6fc2-465e-a582-a7c442fb8101",
   "metadata": {},
   "outputs": [],
   "source": [
    "import ibis\n",
    "from google.oauth2 import service_account"
   ]
  },
  {
   "cell_type": "code",
   "execution_count": 2,
   "id": "596ba5c6-6f8b-45b0-81ee-403bac000535",
   "metadata": {},
   "outputs": [],
   "source": [
    "# Load credentials from a service account JSON file\n",
    "credentials = service_account.Credentials.from_service_account_file(\n",
    "    '/opt/spark/work-dir/google-service-account.json',\n",
    "    scopes=['https://www.googleapis.com/auth/bigquery'] # Specify necessary scopes\n",
    ")\n",
    "\n",
    "con = ibis.bigquery.connect(\n",
    "    project_id='personal-use-461616',\n",
    "    credentials=credentials\n",
    ")"
   ]
  },
  {
   "cell_type": "markdown",
   "id": "1c3d58b1-0efd-4644-9a16-b3d68e8f5e93",
   "metadata": {},
   "source": [
    "## Transform Data"
   ]
  },
  {
   "cell_type": "markdown",
   "id": "84b5d8e0-f7e8-420c-b4e9-04a2e2430111",
   "metadata": {},
   "source": [
    "### Connect table"
   ]
  },
  {
   "cell_type": "code",
   "execution_count": 3,
   "id": "0047cd2d-776a-4a13-9aa5-965d745632e0",
   "metadata": {},
   "outputs": [],
   "source": [
    "raw_df = con.table(\"ecommerce_product.product_price_raw_data\")"
   ]
  },
  {
   "cell_type": "markdown",
   "id": "d7cb050a-97ae-42c3-accb-b418ab5d75bc",
   "metadata": {},
   "source": [
    "### Split Data with E-commerce"
   ]
  },
  {
   "cell_type": "code",
   "execution_count": 4,
   "id": "013aede9-2381-4439-a7b6-bc2de13f1368",
   "metadata": {},
   "outputs": [
    {
     "name": "stdout",
     "output_type": "stream",
     "text": [
      "-------- em_01_df expression --------\n",
      "r0 := DatabaseTable: personal-use-461616.ecommerce_product.product_price_raw_data\n",
      "  product_name_sha256  binary\n",
      "  product_name         string\n",
      "  sale_price           float64\n",
      "  ecommerce_name       string\n",
      "  ingest_timestamp_utc timestamp('UTC')\n",
      "\n",
      "Filter[r0]\n",
      "  r0.ecommerce_name == 'ecommerce_01'\n",
      "\n",
      "-------- em_02_df expression --------\n",
      "r0 := DatabaseTable: personal-use-461616.ecommerce_product.product_price_raw_data\n",
      "  product_name_sha256  binary\n",
      "  product_name         string\n",
      "  sale_price           float64\n",
      "  ecommerce_name       string\n",
      "  ingest_timestamp_utc timestamp('UTC')\n",
      "\n",
      "Filter[r0]\n",
      "  r0.ecommerce_name == 'ecommerce_02'\n"
     ]
    }
   ],
   "source": [
    "em_01_df = raw_df.filter(raw_df.ecommerce_name == 'ecommerce_01')\n",
    "em_02_df = raw_df.filter(raw_df.ecommerce_name == 'ecommerce_02')\n",
    "print(\"-------- em_01_df expression --------\")\n",
    "print(em_01_df)\n",
    "print(\"\\n-------- em_02_df expression --------\")\n",
    "print(em_02_df)"
   ]
  },
  {
   "cell_type": "code",
   "execution_count": null,
   "id": "156c1d73-532b-42ac-bc97-a1239d12fcfc",
   "metadata": {},
   "outputs": [],
   "source": []
  }
 ],
 "metadata": {
  "kernelspec": {
   "display_name": "Python 3 (ipykernel)",
   "language": "python",
   "name": "python3"
  },
  "language_info": {
   "codemirror_mode": {
    "name": "ipython",
    "version": 3
   },
   "file_extension": ".py",
   "mimetype": "text/x-python",
   "name": "python",
   "nbconvert_exporter": "python",
   "pygments_lexer": "ipython3",
   "version": "3.10.12"
  }
 },
 "nbformat": 4,
 "nbformat_minor": 5
}
