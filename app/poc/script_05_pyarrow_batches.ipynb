{
 "cells": [
  {
   "cell_type": "code",
   "execution_count": 1,
   "id": "2c9d98ad-7543-416a-a393-693474c9a6d0",
   "metadata": {},
   "outputs": [],
   "source": [
    "import ibis\n",
    "import pyarrow as pa"
   ]
  },
  {
   "cell_type": "code",
   "execution_count": 2,
   "id": "0c75c004-a9dd-4471-9e02-ee151c08b004",
   "metadata": {},
   "outputs": [],
   "source": [
    "# Assume 'con' is an Ibis connection object (e.g., to a DuckDB, PostgreSQL, etc.)\n",
    "# and 'table' is an Ibis table expression.\n",
    "# For demonstration purposes, let's create a dummy Ibis table and connection.\n",
    "\n",
    "# 1. Create a dummy Ibis table (replace with your actual Ibis expression)\n",
    "data = pa.table(\n",
    "    {\n",
    "        \"a\": [1, 2, 3, 4],\n",
    "        \"b\": [\"apple\", \"banana\", \"cherry\", \"date\"],\n",
    "        \"c\": [True, False, True, False],\n",
    "    }\n",
    ")"
   ]
  },
  {
   "cell_type": "code",
   "execution_count": 4,
   "id": "a95a323b-4ea0-4854-a030-576e659704dc",
   "metadata": {},
   "outputs": [],
   "source": [
    "# Connect to a polars for a simple example\n",
    "con = ibis.polars.connect()\n",
    "table = con.create_table(\"my_data\", data)\n"
   ]
  },
  {
   "cell_type": "code",
   "execution_count": 6,
   "id": "c10023b8-735d-43a9-b70d-cc661c34bcf4",
   "metadata": {},
   "outputs": [],
   "source": [
    "# For example, select all columns or perform some operations\n",
    "expression = table.select(table.a, table.b.cast('string').length().name('b_length'))"
   ]
  },
  {
   "cell_type": "code",
   "execution_count": 8,
   "id": "f671171b-1f03-4bac-86ef-80627ba13d18",
   "metadata": {},
   "outputs": [
    {
     "data": {
      "text/html": [
       "<pre style=\"white-space:pre;overflow-x:auto;line-height:normal;font-family:Menlo,'DejaVu Sans Mono',consolas,'Courier New',monospace\">r0 := DatabaseTable: my_data\n",
       "  a int64\n",
       "  b string\n",
       "  c boolean\n",
       "\n",
       "Project[r0]\n",
       "  a:        r0.a\n",
       "  b_length: StringLength(r0.b)\n",
       "</pre>\n"
      ],
      "text/plain": [
       "r0 := DatabaseTable: my_data\n",
       "  a int64\n",
       "  b string\n",
       "  c boolean\n",
       "\n",
       "Project[r0]\n",
       "  a:        r0.a\n",
       "  b_length: StringLength(r0.b)"
      ]
     },
     "execution_count": 8,
     "metadata": {},
     "output_type": "execute_result"
    }
   ],
   "source": [
    "# You can specify chunk_size, limit, and params as needed\n",
    "batches_reader = expression.to_pyarrow_batches(chunk_size=2, limit=None)\n",
    "expression"
   ]
  },
  {
   "cell_type": "code",
   "execution_count": 9,
   "id": "bc093aca-ad05-4626-86cb-9650d3c81ace",
   "metadata": {},
   "outputs": [],
   "source": [
    "# You can specify chunk_size, limit, and params as needed\n",
    "batches_reader = expression.to_pyarrow_batches(chunk_size=2, limit=None)"
   ]
  },
  {
   "cell_type": "code",
   "execution_count": 10,
   "id": "ec89036d-91d3-43b8-9284-322a0ba52cb1",
   "metadata": {},
   "outputs": [
    {
     "name": "stdout",
     "output_type": "stream",
     "text": [
      "Iterating through PyArrow record batches:\n",
      "\n",
      "--- Batch 1 ---\n",
      "pyarrow.RecordBatch\n",
      "a: int64\n",
      "b_length: int32\n",
      "----\n",
      "a: [1,2]\n",
      "b_length: [5,6]\n",
      "Number of rows in batch: 2\n",
      "Schema of batch: a: int64\n",
      "b_length: int32\n",
      "\n",
      "--- Batch 2 ---\n",
      "pyarrow.RecordBatch\n",
      "a: int64\n",
      "b_length: int32\n",
      "----\n",
      "a: [3,4]\n",
      "b_length: [6,4]\n",
      "Number of rows in batch: 2\n",
      "Schema of batch: a: int64\n",
      "b_length: int32\n"
     ]
    }
   ],
   "source": [
    "print(\"Iterating through PyArrow record batches:\")\n",
    "\n",
    "for i, batch in enumerate(batches_reader):\n",
    "    print(f\"\\n--- Batch {i+1} ---\")\n",
    "    print(batch)\n",
    "    print(f\"Number of rows in batch: {batch.num_rows}\")\n",
    "    print(f\"Schema of batch: {batch.schema}\")\n",
    "\n",
    "    # You can further process each batch here\n",
    "    # For example, convert to pandas DataFrame:\n",
    "    # df = batch.to_pandas()\n",
    "    # print(f\"Batch {i+1} as Pandas DataFrame:\\n{df}\")"
   ]
  }
 ],
 "metadata": {
  "kernelspec": {
   "display_name": "Python 3 (ipykernel)",
   "language": "python",
   "name": "python3"
  },
  "language_info": {
   "codemirror_mode": {
    "name": "ipython",
    "version": 3
   },
   "file_extension": ".py",
   "mimetype": "text/x-python",
   "name": "python",
   "nbconvert_exporter": "python",
   "pygments_lexer": "ipython3",
   "version": "3.10.12"
  }
 },
 "nbformat": 4,
 "nbformat_minor": 5
}
